{
 "cells": [
  {
   "cell_type": "markdown",
   "id": "5e3a6c1c",
   "metadata": {},
   "source": [
    "# Mid Term 1 - KNN & Logistic Regression\n",
    "*Authors*:  Aliotta Lorenzo, Prataiolo Loris\n"
   ]
  },
  {
   "cell_type": "code",
   "execution_count": null,
   "id": "a9115979",
   "metadata": {
    "vscode": {
     "languageId": "plaintext"
    }
   },
   "outputs": [],
   "source": [
    "print(\"Hello world!\")"
   ]
  },
  {
   "cell_type": "code",
   "execution_count": null,
   "id": "d9d56c00",
   "metadata": {
    "vscode": {
     "languageId": "plaintext"
    }
   },
   "outputs": [],
   "source": []
  }
 ],
 "metadata": {
  "language_info": {
   "name": "python"
  }
 },
 "nbformat": 4,
 "nbformat_minor": 5
}
