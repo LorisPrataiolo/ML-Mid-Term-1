{
 "cells": [
  {
   "cell_type": "markdown",
   "id": "5e3a6c1c",
   "metadata": {},
   "source": [
    "# Mid Term 1 - KNN & Logistic Regression\n",
    "*Authors*:  Aliotta Lorenzo, Prataiolo Loris\n"
   ]
  }
 ],
 "metadata": {
  "language_info": {
   "name": "python"
  }
 },
 "nbformat": 4,
 "nbformat_minor": 5
}
